{
 "cells": [
  {
   "cell_type": "markdown",
   "id": "975886fe-0a55-4494-b53a-6ee5faea5d46",
   "metadata": {},
   "source": [
    "# Python.Random Overview\n",
    "\n",
    "**The content below has been adapted from the [numpy.random API](https://numpy.org/doc/stable/reference/random/index.html#) source with some changes. Look at the documentation section for more details.** \n",
    "\n",
    "random is a module within the numpy library used to work with random numbers. \n",
    "\n",
    "Can the python program make truly random number? \n",
    "\n",
    "No. Random number generated with Python is not fully random in the scientific sense of the word but *pseudorandom* - generated with a pseudorandom number generator (PRNG), which is essentially any algorithm for generating seemingly random but still reproducible data. [[6]](#References)\n",
    " \n",
    "PRNG starta with a random number, known as the seed, and then uses an algorithm to generate a pseudo-random sequence of bits based on it. random.seed() function call is seeding the underlying random number generator (PRNG) and this is what makes subsequent calls to generate random numbers deterministic. [[6]](#References)\n",
    "\n",
    "Numpy’s random number routines produce pseudo random numbers using combinations of a BitGenerator to create sequences and a Generator to use those sequences to sample from different statistical distributions:\n",
    "\n",
    "* BitGenerators: Objects that generate random numbers. These are typically unsigned integer words filled with sequences of either 32 or 64 random bits.\n",
    "* Generators: Objects that transform sequences of random bits from a BitGenerator into sequences of numbers that follow a specific probability distribution (such as uniform, Normal or Binomial) within a specified interval. [[1]](#References)\n",
    "\n",
    "## Documentation\n",
    "* [Numpy manual - latest version](https://numpy.org/doc/stable/index.html)\n",
    "* [Random sampling](https://numpy.org/doc/stable/reference/random/index.html)\n",
    "* [Random generator](https://numpy.org/doc/stable/reference/random/generator.html#numpy.random.Generator)\n",
    "* [Bit Generators](https://numpy.org/doc/stable/reference/random/bit_generators/index.html#)"
   ]
  },
  {
   "cell_type": "markdown",
   "id": "b9c5fd40-081e-47cf-954b-058fa7e571f6",
   "metadata": {},
   "source": [
    "## Simple random data"
   ]
  },
  {
   "cell_type": "code",
   "execution_count": null,
   "id": "81016c66-b6b5-4632-8c65-74599e14695e",
   "metadata": {},
   "outputs": [],
   "source": []
  },
  {
   "cell_type": "markdown",
   "id": "1d80f10d-143f-417e-8be4-d34315ab3d39",
   "metadata": {},
   "source": [
    "## References \n",
    "1. Random sampling (numpy.random) — NumPy v1.21 Manual. (2008–2021). NumPy. Retrieved October 31, 2021, from https://numpy.org/doc/stable/reference/random/index.html\n",
    "2. Random Generator — NumPy v1.21 Manual. (2008–2021). NumPy. Retrieved October 31, 2021, from https://numpy.org/doc/stable/reference/random/generator.html#numpy.random.Generator\n",
    "3. Permuted Congruential Generator (64-bit, PCG64) — NumPy v1.21 Manual. (2008–2021). NumPy. Retrieved October 31, 2021, from https://numpy.org/doc/stable/reference/random/bit_generators/pcg64.html#numpy.random.PCG64\n",
    "4. Ebner, J. (2021, July 24). NumPy Random Seed, Explained. Sharp Sight. Retrieved October 31, 2021, from https://www.sharpsightlabs.com/blog/numpy-random-seed/\n",
    "5. Introduction to Random Numbers in NumPy. (1999–2021). W3schools. Retrieved October 31, 2021, from https://www.w3schools.com/python/numpy/numpy_random.asp\n",
    "6. Real Python. (2021, April 3). Generating Random Data in Python (Guide). Retrieved October 31, 2021, from https://realpython.com/python-random/\n",
    "7. random — Generate pseudo-random numbers — Python 3.10.0 documentation. (2001–2021). Python. Retrieved October 31, 2021, from https://docs.python.org/3/library/random.html\n",
    "8. Jupyter Notebook Users Manual.ipynb. (n.d.). Jupyter at Bryn Mawr College. Retrieved November 2, 2021, from https://jupyter.brynmawr.edu/services/public/dblank/Jupyter%20Notebook%20Users%20Manual.ipynb#4.3.5-Notebook-Internal-Links"
   ]
  },
  {
   "cell_type": "code",
   "execution_count": null,
   "id": "2721c031-dd6f-43b1-b61e-74a3accade3d",
   "metadata": {},
   "outputs": [],
   "source": []
  },
  {
   "cell_type": "code",
   "execution_count": null,
   "id": "2f973ce7-1da9-4c9a-b261-9876246ff8a3",
   "metadata": {},
   "outputs": [],
   "source": []
  }
 ],
 "metadata": {
  "kernelspec": {
   "display_name": "Python 3",
   "language": "python",
   "name": "python3"
  },
  "language_info": {
   "codemirror_mode": {
    "name": "ipython",
    "version": 3
   },
   "file_extension": ".py",
   "mimetype": "text/x-python",
   "name": "python",
   "nbconvert_exporter": "python",
   "pygments_lexer": "ipython3",
   "version": "3.8.8"
  }
 },
 "nbformat": 4,
 "nbformat_minor": 5
}
