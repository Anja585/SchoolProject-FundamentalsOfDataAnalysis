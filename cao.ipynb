{
 "cells": [
  {
   "cell_type": "markdown",
   "id": "07a5cdb6-a8c5-42a4-9c89-728590b0da56",
   "metadata": {},
   "source": [
    "# CAO Point Analysis \n",
    "**The data for the analysis was collected from [CAO](http://www2.cao.ie/points/l8.php) website.** \n"
   ]
  },
  {
   "cell_type": "code",
   "execution_count": null,
   "id": "e4e23739-5dc8-46c4-a8ee-a5e63f25c7f9",
   "metadata": {},
   "outputs": [],
   "source": [
    "import requests as rq \n",
    "import re\n",
    "\n",
    "resp = rq.get('http://www2.cao.ie/points/l8.php') # making a HTTP request for a data to a webpage\n",
    "resp"
   ]
  },
  {
   "cell_type": "markdown",
   "id": "7ea2dba7-8c11-45b0-b7e1-1bc8d125d16f",
   "metadata": {},
   "source": [
    "## Selecting the lines "
   ]
  },
  {
   "cell_type": "code",
   "execution_count": null,
   "id": "864fb5b3-e1f9-44cd-bdcc-62651de6c59f",
   "metadata": {},
   "outputs": [],
   "source": [
    "# compiling regular expression\n",
    "re_course = re.compile(r'([A-Z]{2}[0-9]{3})  (.*)([0-9]{3})(\\*?) *')"
   ]
  },
  {
   "cell_type": "code",
   "execution_count": null,
   "id": "c93244d1-207f-402d-baf4-5da9d55008a2",
   "metadata": {
    "scrolled": true,
    "tags": []
   },
   "outputs": [],
   "source": [
    "# loop though the lines of the response \n",
    "for line in resp.iter_lines():\n",
    "    if re_course.fullmatch(line.decode('iso-8859-1')):\n",
    "        print(line)"
   ]
  },
  {
   "cell_type": "markdown",
   "id": "b9f24ea7-c149-4fa6-8009-09c9b11075ca",
   "metadata": {},
   "source": [
    "\n",
    "## References\n",
    "1. Central Applications Office Ltd. (2021). Points Required for Entry to 2021 Courses. CAO. Retrieved October 16, 2021, from https://www.cao.ie/index.php?page=points&p=2021&bb=points \n",
    "2. Python Requests Module. (1999–2021). W3Schools. Retrieved October 16, 2021, from https://www.w3schools.com/python/module_requests.asp\n",
    "3. Python read website data line by line when available. (2013, June 1). Stack Overflow. Retrieved October 16, 2021, from https://stackoverflow.com/questions/16870648/python-read-website-data-line-by-line-when-available\n",
    "4. Python Software Foundation. (2001–2021). re — Regular expression operations — Python 3.10.0 documentation. Python. Retrieved October 16, 2021, from https://docs.python.org/3/library/re.html#re.match\n",
    "5. TypeError: can’t use a string pattern on a bytes-like object in re.findall(). (2015, June 21). Stack Overflow. Retrieved October 16, 2021, from https://stackoverflow.com/questions/31019854/typeerror-cant-use-a-string-pattern-on-a-bytes-like-object-in-re-findall\n"
   ]
  },
  {
   "cell_type": "code",
   "execution_count": null,
   "id": "13fb982d-85c9-428e-a1f1-e55a9437d6ec",
   "metadata": {},
   "outputs": [],
   "source": []
  }
 ],
 "metadata": {
  "kernelspec": {
   "display_name": "Python 3",
   "language": "python",
   "name": "python3"
  },
  "language_info": {
   "codemirror_mode": {
    "name": "ipython",
    "version": 3
   },
   "file_extension": ".py",
   "mimetype": "text/x-python",
   "name": "python",
   "nbconvert_exporter": "python",
   "pygments_lexer": "ipython3",
   "version": "3.8.8"
  }
 },
 "nbformat": 4,
 "nbformat_minor": 5
}
