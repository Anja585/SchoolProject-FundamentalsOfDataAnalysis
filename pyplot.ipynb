{
 "cells": [
  {
   "cell_type": "markdown",
   "id": "1f26cf91-5b3b-4428-9cb7-7ed76f8a9039",
   "metadata": {},
   "source": [
    "# Matplotlib.Pyplot Overview \n",
    "***\n",
    "## Documentation\n",
    "* [The Pyplot API](https://matplotlib.org/stable/api/index.html#modules)\n",
    "* [The Matplotlib.Pyplot function reference](https://matplotlib.org/stable/api/_as_gen/matplotlib.pyplot.html#module-matplotlib.pyplot)\n",
    "* [Pyplot tutorial](https://matplotlib.org/stable/tutorials/introductory/pyplot.html)\n",
    "* [Pyplot examples](https://matplotlib.org/stable/gallery/index.html#pyplots-examples)"
   ]
  },
  {
   "cell_type": "code",
   "execution_count": null,
   "id": "53dd3d91-9c0f-436b-8f65-6367201dec62",
   "metadata": {},
   "outputs": [],
   "source": [
    "import numpy as np\n",
    "import matplotlib.pyplot as plt"
   ]
  },
  {
   "cell_type": "code",
   "execution_count": null,
   "id": "8fe49df6-8dd0-4bb7-87ee-4aee6ad837de",
   "metadata": {},
   "outputs": [],
   "source": []
  },
  {
   "cell_type": "code",
   "execution_count": null,
   "id": "ce716c62-d44b-44a2-b2f5-87f53caefd48",
   "metadata": {},
   "outputs": [],
   "source": []
  },
  {
   "cell_type": "code",
   "execution_count": null,
   "id": "3be40ad5-a181-47e0-a8c2-649ba917f8bf",
   "metadata": {},
   "outputs": [],
   "source": []
  },
  {
   "cell_type": "code",
   "execution_count": null,
   "id": "8e2878e9-912e-4deb-b089-14d431dbb16f",
   "metadata": {},
   "outputs": [],
   "source": []
  },
  {
   "cell_type": "code",
   "execution_count": null,
   "id": "620b23f7-d2bc-4d6c-a49d-b7f163aab5af",
   "metadata": {},
   "outputs": [],
   "source": []
  },
  {
   "cell_type": "code",
   "execution_count": null,
   "id": "e6a74274-b285-46f0-85b7-072c117c7a22",
   "metadata": {},
   "outputs": [],
   "source": []
  },
  {
   "cell_type": "code",
   "execution_count": null,
   "id": "19667773-de13-4811-a8c6-f76c8a2cb0c7",
   "metadata": {},
   "outputs": [],
   "source": []
  },
  {
   "cell_type": "markdown",
   "id": "2287a117-f649-482b-a50c-df5ea8ea5134",
   "metadata": {},
   "source": [
    "## References \n",
    "[1] Hunter, J., Dale, D., Firing, E., Droettboom, M., & Matplotlib Development Team. (2021, August 13). API Overview — Matplotlib 3.4.3 documentation. Matplotlib. Https://Matplotlib.Org/Stable/Api/Index.Html#the-Pyplot-Api.\n",
    "[2] Hunter, J., Dale, D., Firing, E., Droettboom, M., & Matplotlib Development Team. (2021b, August 13). matplotlib.pyplot — Matplotlib 3.4.3 documentation. Matplotlib. \n",
    "https://matplotlib.org/stable/api/_as_gen/matplotlib.pyplot.html#module-matplotlib.pyplot\n",
    "[3] Hunter, J., Dale, D., Firing, E., Droettboom, M., & Matplotlib Development Team. (2021b, August 13). Pyplot tutorial — Matplotlib 3.4.3 documentation. Matplotlib. https://matplotlib.org/stable/tutorials/introductory/pyplot.html\n",
    "[4] Hunter, J., Dale, D., Firing, E., Droettboom, M., & Matplotlib Development Team. (2021b, August 13). Gallery — Matplotlib 3.4.3 documentation. Matplotlib. https://matplotlib.org/stable/gallery/index.html#pyplots-examples"
   ]
  },
  {
   "cell_type": "markdown",
   "id": "5692415a-93ba-4263-aedf-0e77bf002287",
   "metadata": {},
   "source": []
  },
  {
   "cell_type": "markdown",
   "id": "3919cde0-0b3d-45f3-a527-e0a4db4daa81",
   "metadata": {},
   "source": []
  },
  {
   "cell_type": "markdown",
   "id": "ac924415-fdfc-4239-92cd-7491f83d5a31",
   "metadata": {},
   "source": []
  },
  {
   "cell_type": "markdown",
   "id": "99791d49-0006-423a-a2fc-4e47f6e64190",
   "metadata": {},
   "source": []
  },
  {
   "cell_type": "markdown",
   "id": "66a4c1bf-ad40-436f-aee6-47a9b350f52a",
   "metadata": {},
   "source": []
  },
  {
   "cell_type": "code",
   "execution_count": null,
   "id": "796bae16-7b1b-48c7-9729-c073ceb4361f",
   "metadata": {},
   "outputs": [],
   "source": []
  },
  {
   "cell_type": "code",
   "execution_count": null,
   "id": "8c9e3f75-b67a-4a50-b991-d56f5c47e1e9",
   "metadata": {},
   "outputs": [],
   "source": []
  },
  {
   "cell_type": "code",
   "execution_count": null,
   "id": "17cacb39-60c1-4dfe-9d69-0dd153bd13a4",
   "metadata": {},
   "outputs": [],
   "source": []
  },
  {
   "cell_type": "code",
   "execution_count": null,
   "id": "f83cfe46-8548-4b8b-b675-117a643d410c",
   "metadata": {},
   "outputs": [],
   "source": []
  },
  {
   "cell_type": "code",
   "execution_count": null,
   "id": "f7571aa0-1370-4dc9-8603-b0dd869d9b3a",
   "metadata": {},
   "outputs": [],
   "source": []
  },
  {
   "cell_type": "code",
   "execution_count": null,
   "id": "c16ca12a-569c-462a-aaa8-31d8b9242d22",
   "metadata": {},
   "outputs": [],
   "source": []
  }
 ],
 "metadata": {
  "kernelspec": {
   "display_name": "Python 3",
   "language": "python",
   "name": "python3"
  },
  "language_info": {
   "codemirror_mode": {
    "name": "ipython",
    "version": 3
   },
   "file_extension": ".py",
   "mimetype": "text/x-python",
   "name": "python",
   "nbconvert_exporter": "python",
   "pygments_lexer": "ipython3",
   "version": "3.8.8"
  }
 },
 "nbformat": 4,
 "nbformat_minor": 5
}
